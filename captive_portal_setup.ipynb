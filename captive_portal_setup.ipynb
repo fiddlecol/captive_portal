{
 "cells": [
  {
   "metadata": {},
   "cell_type": "markdown",
   "source": [
    "# Setting Up a Flask-Based Captive Portal\n",
    "This notebook demonstrates the steps to create a Flask-based captive portal application. The application includes endpoint routes, SQLAlchemy models, MPesa configurations, HTML templates, database entries, and instructions for running and testing the app."
   ],
   "id": "f86ab45315880064"
  },
  {
   "metadata": {},
   "cell_type": "code",
   "outputs": [],
   "execution_count": null,
   "source": "",
   "id": "11217b9e1c8904a0"
  },
  {
   "metadata": {},
   "cell_type": "code",
   "outputs": [],
   "execution_count": null,
   "source": [
    "# app.py\n",
    "from flask import Flask, render_template, request, redirect\n",
    "from models import db, Voucher\n",
    "\n",
    "app = Flask(__name__)\n",
    "app.config['SQLALCHEMY_DATABASE_URI'] = 'sqlite:///vouchers.db'\n",
    "db.init_app(app)\n",
    "\n",
    "@app.route('/')\n",
    "def home():\n",
    "    return render_template('login.html')\n",
    "\n",
    "@app.route('/buy')\n",
    "def buy():\n",
    "    return render_template('buy.html')\n",
    "\n",
    "@app.route('/success', methods=['POST'])\n",
    "def success():\n",
    "    # Logic to handle voucher redemption\n",
    "    voucher_code = request.form.get('voucher_code')\n",
    "    voucher = Voucher.query.filter_by(code=voucher_code).first()\n",
    "    if voucher and not voucher.is_used:\n",
    "        voucher.is_used = True\n",
    "        db.session.commit()\n",
    "        return render_template('success.html')\n",
    "    return \"Invalid or already used voucher!\"\n",
    "\n",
    "if __name__ == '__main__':\n",
    "    app.run(debug=True)"
   ],
   "id": "81222d4123c713bb"
  },
  {
   "metadata": {},
   "cell_type": "code",
   "outputs": [],
   "execution_count": null,
   "source": "",
   "id": "ff4f1c9a892f2c0d"
  },
  {
   "metadata": {},
   "cell_type": "code",
   "outputs": [],
   "execution_count": null,
   "source": [
    "# models.py\n",
    "from flask_sqlalchemy import SQLAlchemy\n",
    "\n",
    "db = SQLAlchemy()\n",
    "\n",
    "class Voucher(db.Model):\n",
    "    id = db.Column(db.Integer, primary_key=True)\n",
    "    code = db.Column(db.String(100), unique=True, nullable=False)\n",
    "    is_used = db.Column(db.Boolean, default=False)"
   ],
   "id": "266b3e99011a7d24"
  },
  {
   "metadata": {},
   "cell_type": "code",
   "outputs": [],
   "execution_count": null,
   "source": "",
   "id": "bdc96a6d12c90c3a"
  },
  {
   "metadata": {
    "jupyter": {
     "is_executing": true
    }
   },
   "cell_type": "code",
   "source": [
    "# config.py\n",
    "import requests\n",
    "\n",
    "MPESA_API_URL = \"https://sandbox.safaricom.co.ke/mpesa/\"\n",
    "CLIENT_KEY = 'your_client_key'\n",
    "CLIENT_SECRET = 'your_client_secret'\n",
    "\n",
    "def get_mpesa_token():\n",
    "    response = requests.post(\n",
    "        MPESA_API_URL + \"oauth/v1/generate?grant_type=client_credentials\",\n",
    "        auth=(CLIENT_KEY, CLIENT_SECRET)\n",
    "    )\n",
    "    return response.json().get('access_token')\n",
    "\n",
    "def process_payment(phone_number, amount):\n",
    "    access_token = get_mpesa_token()\n",
    "    headers = {\"Authorization\": f\"Bearer {access_token}\"}\n",
    "    payload = {\n",
    "        \"BusinessShortCode\": \"123456\",\n",
    "        \"Password\": \"your_password\",\n",
    "        \"Timestamp\": \"timestamp_here\",\n",
    "        \"TransactionType\": \"CustomerPayBillOnline\",\n",
    "        \"Amount\": amount,\n",
    "        \"PartyA\": phone_number,\n",
    "        \"PartyB\": \"123456\",\n",
    "        \"PhoneNumber\": phone_number,\n",
    "        \"CallBackURL\": \"https://your_callback_url\",\n",
    "        \"AccountReference\": \"VoucherPurchase\",\n",
    "        \"TransactionDesc\": \"Purchase voucher\"\n",
    "    }\n",
    "    response = requests.post(MPESA_API_URL + \"c2b/v1/simulate\", json=payload, headers=headers)\n",
    "    return response.json()"
   ],
   "id": "1157adc7a78f73ba",
   "outputs": [],
   "execution_count": null
  },
  {
   "metadata": {},
   "cell_type": "code",
   "outputs": [],
   "execution_count": null,
   "source": "",
   "id": "93ec058fafdc41bb"
  },
  {
   "metadata": {},
   "cell_type": "markdown",
   "source": [
    "<!-- login.html -->\n",
    "<!DOCTYPE html>\n",
    "<html>\n",
    "<head>\n",
    "    <title>Login</title>\n",
    "</head>\n",
    "<body>\n",
    "    <form method=\"POST\" action=\"/success\">\n",
    "        <label for=\"voucher_code\">Enter Voucher Code:</label>\n",
    "        <input type=\"text\" id=\"voucher_code\" name=\"voucher_code\" required>\n",
    "        <button type=\"submit\">Login</button>\n",
    "    </form>\n",
    "</body>\n",
    "</html>"
   ],
   "id": "4b75e62a449e64de"
  },
  {
   "metadata": {},
   "cell_type": "markdown",
   "source": [
    "<!-- buy.html -->\n",
    "<!DOCTYPE html>\n",
    "<html>\n",
    "<head>\n",
    "    <title>Buy Voucher</title>\n",
    "</head>\n",
    "<body>\n",
    "    <form method=\"POST\" action=\"/buy\">\n",
    "        <label for=\"phone_number\">Phone Number:</label>\n",
    "        <input type=\"tel\" id=\"phone_number\" name=\"phone_number\" required>\n",
    "        <label for=\"amount\">Amount:</label>\n",
    "        <input type=\"number\" id=\"amount\" name=\"amount\" required>\n",
    "        <button type=\"submit\">Buy Voucher</button>\n",
    "    </form>\n",
    "</body>\n",
    "</html>"
   ],
   "id": "6e13ec0e20f36651"
  },
  {
   "metadata": {},
   "cell_type": "markdown",
   "source": [
    "<!-- success.html -->\n",
    "<!DOCTYPE html>\n",
    "<html>\n",
    "<head>\n",
    "    <title>Success</title>\n",
    "</head>\n",
    "<body>\n",
    "    <h1>Voucher Redeemed Successfully!</h1>\n",
    "</body>\n",
    "</html>"
   ],
   "id": "3e5a6e9662a28220"
  },
  {
   "metadata": {},
   "cell_type": "code",
   "outputs": [],
   "execution_count": null,
   "source": "",
   "id": "af7f4abb5c794a9b"
  },
  {
   "metadata": {},
   "cell_type": "markdown",
   "source": [
    "## 5. Example Database Entries for Vouchers\n",
    "\n",
    "Populate the database with some example voucher"
   ],
   "id": "26c12646da73135a"
  },
  {
   "metadata": {},
   "cell_type": "markdown",
   "source": [
    "## 5. Example Database Entries for Vouchers\n",
    "\n",
    "Populate the database with some example"
   ],
   "id": "5e8a09d24821b738"
  },
  {
   "metadata": {},
   "cell_type": "markdown",
   "source": [
    "## 5. Example Database Entries for Vouchers\n",
    "\n",
    "Populate the database with some"
   ],
   "id": "7afeaad0d974407e"
  },
  {
   "metadata": {},
   "cell_type": "markdown",
   "source": [
    "## 5. Example Database Entries for Vouchers\n",
    "\n",
    "Populate the database with"
   ],
   "id": "2936ed09bb5f2c7f"
  },
  {
   "metadata": {},
   "cell_type": "markdown",
   "source": [
    "## 5. Example Database Entries for Vouchers\n",
    "\n",
    "Populate the database"
   ],
   "id": "3b3f0760cc4f1c3b"
  },
  {
   "metadata": {},
   "cell_type": "markdown",
   "source": [
    "## 5. Example Database Entries for Vouchers\n",
    "\n",
    "Populate the"
   ],
   "id": "4d07ba64e6b4adeb"
  },
  {
   "metadata": {},
   "cell_type": "markdown",
   "source": [
    "## 5. Example Database Entries for Vouchers\n",
    "\n",
    "Populate"
   ],
   "id": "abbc4f13db6159bc"
  },
  {
   "metadata": {},
   "cell_type": "markdown",
   "source": "## 5. Example Database Entries for Vouchers",
   "id": "28c5491210d932e6"
  },
  {
   "metadata": {},
   "cell_type": "markdown",
   "source": "## 5. Example Database Entries for Vouchers",
   "id": "997c39fa65f624c6"
  },
  {
   "metadata": {},
   "cell_type": "markdown",
   "source": "## 5. Example Database Entries for V",
   "id": "5cf6e834a3b9ec91"
  },
  {
   "metadata": {},
   "cell_type": "markdown",
   "source": "## 5. Example Database Entries for",
   "id": "42cedfd2ceb018ed"
  },
  {
   "metadata": {},
   "cell_type": "markdown",
   "source": "## 5. Example Database Entries",
   "id": "9155f8585be56606"
  },
  {
   "metadata": {},
   "cell_type": "markdown",
   "source": "## 5. Example Database",
   "id": "f6715b104b9fe3c9"
  },
  {
   "metadata": {},
   "cell_type": "markdown",
   "source": "## 5. Example",
   "id": "3218c2b3b6b49cfc"
  },
  {
   "metadata": {},
   "cell_type": "markdown",
   "source": "## 5.",
   "id": "99f8230acbca3a97"
  },
  {
   "metadata": {},
   "cell_type": "markdown",
   "source": "## 5",
   "id": "3406ad238553d119"
  },
  {
   "metadata": {},
   "cell_type": "markdown",
   "source": "##",
   "id": "ac9088757d2466ad"
  },
  {
   "metadata": {},
   "cell_type": "markdown",
   "source": "##",
   "id": "be5b9c3d17f44627"
  },
  {
   "metadata": {},
   "cell_type": "markdown",
   "source": "",
   "id": "143147ecb52ce5a9"
  },
  {
   "metadata": {},
   "cell_type": "markdown",
   "source": "",
   "id": "67da0e0cbc7ead95"
  },
  {
   "metadata": {},
   "cell_type": "code",
   "outputs": [],
   "execution_count": null,
   "source": "",
   "id": "479250d7e9381f65"
  },
  {
   "metadata": {},
   "cell_type": "markdown",
   "source": [
    "## 4. HTML Templates for Login, Buy, and Success Pages\n",
    "\n",
    "The following are the HTML templates used in the application:"
   ],
   "id": "3eb5533f6484fbb9"
  },
  {
   "metadata": {},
   "cell_type": "markdown",
   "source": [
    "## 4. HTML Templates for Login, Buy, and Success Pages\n",
    "\n",
    "The following are the HTML templates used in the application"
   ],
   "id": "25782fa9c2c3b8d8"
  },
  {
   "metadata": {},
   "cell_type": "markdown",
   "source": [
    "## 4. HTML Templates for Login, Buy, and Success Pages\n",
    "\n",
    "The following are the HTML templates used in the"
   ],
   "id": "8e95116ca585ea2"
  },
  {
   "metadata": {},
   "cell_type": "markdown",
   "source": [
    "## 4. HTML Templates for Login, Buy, and Success Pages\n",
    "\n",
    "The following are the HTML templates used in"
   ],
   "id": "c46d8f7b940f3989"
  },
  {
   "metadata": {},
   "cell_type": "markdown",
   "source": [
    "## 4. HTML Templates for Login, Buy, and Success Pages\n",
    "\n",
    "The following are the HTML templates used"
   ],
   "id": "1d417e93b8ccc25"
  },
  {
   "metadata": {},
   "cell_type": "markdown",
   "source": [
    "## 4. HTML Templates for Login, Buy, and Success Pages\n",
    "\n",
    "The following are the HTML templates"
   ],
   "id": "344d1a61349a263c"
  },
  {
   "metadata": {},
   "cell_type": "markdown",
   "source": [
    "## 4. HTML Templates for Login, Buy, and Success Pages\n",
    "\n",
    "The following are the HTML"
   ],
   "id": "c3311981c9485741"
  },
  {
   "metadata": {},
   "cell_type": "markdown",
   "source": [
    "## 4. HTML Templates for Login, Buy, and Success Pages\n",
    "\n",
    "The following are the"
   ],
   "id": "67162703056ba10"
  },
  {
   "metadata": {},
   "cell_type": "markdown",
   "source": [
    "## 4. HTML Templates for Login, Buy, and Success Pages\n",
    "\n",
    "The following are"
   ],
   "id": "44866729378607dd"
  },
  {
   "metadata": {},
   "cell_type": "markdown",
   "source": [
    "## 4. HTML Templates for Login, Buy, and Success Pages\n",
    "\n",
    "The following"
   ],
   "id": "197f6c8cbb0e06e6"
  },
  {
   "metadata": {},
   "cell_type": "markdown",
   "source": [
    "## 4. HTML Templates for Login, Buy, and Success Pages\n",
    "\n",
    "The"
   ],
   "id": "81b548d6e3b38d12"
  },
  {
   "metadata": {},
   "cell_type": "markdown",
   "source": "## 4. HTML Templates for Login, Buy, and Success Pages",
   "id": "7f2d28b29925cc4c"
  },
  {
   "metadata": {},
   "cell_type": "markdown",
   "source": "## 4. HTML Templates for Login, Buy, and Success Pages",
   "id": "e5def8de0bee5d28"
  },
  {
   "metadata": {},
   "cell_type": "markdown",
   "source": "## 4. HTML Templates for Login, Buy, and Success",
   "id": "e46b4338bf451349"
  },
  {
   "metadata": {},
   "cell_type": "markdown",
   "source": "## 4. HTML Templates for Login, Buy, and",
   "id": "3d4921bb7fd52335"
  },
  {
   "metadata": {},
   "cell_type": "markdown",
   "source": "## 4. HTML Templates for Login, Buy,",
   "id": "519a1425ce691fc"
  },
  {
   "metadata": {},
   "cell_type": "markdown",
   "source": "## 4. HTML Templates for Login, Buy",
   "id": "fea0f69c02d20993"
  },
  {
   "metadata": {},
   "cell_type": "markdown",
   "source": "## 4. HTML Templates for Login,",
   "id": "6732902d7884f351"
  },
  {
   "metadata": {},
   "cell_type": "markdown",
   "source": "## 4. HTML Templates for Login",
   "id": "31d3c0fb97056b58"
  },
  {
   "metadata": {},
   "cell_type": "markdown",
   "source": "## 4. HTML Templates for",
   "id": "e6caa9274bfcb86c"
  },
  {
   "metadata": {},
   "cell_type": "markdown",
   "source": "## 4. HTML Templates",
   "id": "7989c220868f5eda"
  },
  {
   "metadata": {},
   "cell_type": "markdown",
   "source": "## 4. HTML",
   "id": "bea43c36027015c4"
  },
  {
   "metadata": {},
   "cell_type": "markdown",
   "source": "## 4.",
   "id": "3016b4bd315f2cd8"
  },
  {
   "metadata": {},
   "cell_type": "markdown",
   "source": "## 4",
   "id": "a3fda92d8b7993f0"
  },
  {
   "metadata": {},
   "cell_type": "markdown",
   "source": "##",
   "id": "8f12d50a9dbad4c0"
  },
  {
   "metadata": {},
   "cell_type": "markdown",
   "source": "##",
   "id": "e12fc38b7bc4862b"
  },
  {
   "metadata": {},
   "cell_type": "markdown",
   "source": "",
   "id": "c8e6cc2152abc0e2"
  },
  {
   "metadata": {},
   "cell_type": "markdown",
   "source": "",
   "id": "7ed5d6f7636e4901"
  },
  {
   "metadata": {},
   "cell_type": "code",
   "outputs": [],
   "execution_count": null,
   "source": "",
   "id": "9bb539791583a803"
  },
  {
   "metadata": {},
   "cell_type": "markdown",
   "source": [
    "## 3. MPesa Configurations and Helper Functions (`config.py`)\n",
    "\n",
    "This section contains configuration details and utility functions for integrating MPesa payments."
   ],
   "id": "236a31e483598707"
  },
  {
   "metadata": {},
   "cell_type": "markdown",
   "source": [
    "## 3. MPesa Configurations and Helper Functions (`config.py`)\n",
    "\n",
    "This section contains configuration details and utility functions for integrating MPesa payments."
   ],
   "id": "4499f1dd34e17f06"
  },
  {
   "metadata": {},
   "cell_type": "markdown",
   "source": [
    "## 3. MPesa Configurations and Helper Functions (`config.py`)\n",
    "\n",
    "This section contains configuration details and utility functions for integrating MPesa payments."
   ],
   "id": "33dbdb23efcc61b4"
  },
  {
   "metadata": {},
   "cell_type": "markdown",
   "source": [
    "## 3. MPesa Configurations and Helper Functions (`config.py`)\n",
    "\n",
    "This section contains configuration details and utility functions for integrating MPesa payments"
   ],
   "id": "e627ffee5422a84e"
  },
  {
   "metadata": {},
   "cell_type": "markdown",
   "source": [
    "## 3. MPesa Configurations and Helper Functions (`config.py`)\n",
    "\n",
    "This section contains configuration details and utility functions for integrating MPesa"
   ],
   "id": "ae7ccff9c037928a"
  },
  {
   "metadata": {},
   "cell_type": "markdown",
   "source": [
    "## 3. MPesa Configurations and Helper Functions (`config.py`)\n",
    "\n",
    "This section contains configuration details and utility functions for integrating MP"
   ],
   "id": "7537a5f1a45cf627"
  },
  {
   "metadata": {},
   "cell_type": "markdown",
   "source": [
    "## 3. MPesa Configurations and Helper Functions (`config.py`)\n",
    "\n",
    "This section contains configuration details and utility functions for integrating"
   ],
   "id": "3e7e8572a13ca5c1"
  },
  {
   "metadata": {},
   "cell_type": "markdown",
   "source": [
    "## 3. MPesa Configurations and Helper Functions (`config.py`)\n",
    "\n",
    "This section contains configuration details and utility functions for"
   ],
   "id": "6c8dd440a1b8f2c3"
  },
  {
   "metadata": {},
   "cell_type": "markdown",
   "source": [
    "## 3. MPesa Configurations and Helper Functions (`config.py`)\n",
    "\n",
    "This section contains configuration details and utility functions"
   ],
   "id": "e163a993907ffb5d"
  },
  {
   "metadata": {},
   "cell_type": "markdown",
   "source": [
    "## 3. MPesa Configurations and Helper Functions (`config.py`)\n",
    "\n",
    "This section contains configuration details and utility"
   ],
   "id": "3e9bc063295896c7"
  },
  {
   "metadata": {},
   "cell_type": "markdown",
   "source": [
    "## 3. MPesa Configurations and Helper Functions (`config.py`)\n",
    "\n",
    "This section contains configuration details and"
   ],
   "id": "6dd7e728cb4550cd"
  },
  {
   "metadata": {},
   "cell_type": "markdown",
   "source": [
    "## 3. MPesa Configurations and Helper Functions (`config.py`)\n",
    "\n",
    "This section contains configuration details"
   ],
   "id": "c342e1ac05001ff6"
  },
  {
   "metadata": {},
   "cell_type": "markdown",
   "source": [
    "## 3. MPesa Configurations and Helper Functions (`config.py`)\n",
    "\n",
    "This section contains configuration"
   ],
   "id": "750d1de999ea86a3"
  },
  {
   "metadata": {},
   "cell_type": "markdown",
   "source": [
    "## 3. MPesa Configurations and Helper Functions (`config.py`)\n",
    "\n",
    "This section contains"
   ],
   "id": "f7c9f72eadb153fa"
  },
  {
   "metadata": {},
   "cell_type": "markdown",
   "source": [
    "## 3. MPesa Configurations and Helper Functions (`config.py`)\n",
    "\n",
    "This section"
   ],
   "id": "7c8937424f855018"
  },
  {
   "metadata": {},
   "cell_type": "markdown",
   "source": [
    "## 3. MPesa Configurations and Helper Functions (`config.py`)\n",
    "\n",
    "This"
   ],
   "id": "b49680478263d6a6"
  },
  {
   "metadata": {},
   "cell_type": "markdown",
   "source": "## 3. MPesa Configurations and Helper Functions (`config.py`)",
   "id": "8097e7c0e3d6b457"
  },
  {
   "metadata": {},
   "cell_type": "markdown",
   "source": "## 3. MPesa Configurations and Helper Functions (`config.py`",
   "id": "7d724f77fb546328"
  },
  {
   "metadata": {},
   "cell_type": "markdown",
   "source": "## 3. MPesa Configurations and Helper Functions (`config.py",
   "id": "5ed4cec635ea0ead"
  },
  {
   "metadata": {},
   "cell_type": "markdown",
   "source": "## 3. MPesa Configurations and Helper Functions (`config",
   "id": "83f49a06c155f5c0"
  },
  {
   "metadata": {},
   "cell_type": "markdown",
   "source": "## 3. MPesa Configurations and Helper Functions (`",
   "id": "ddff9a53ba468202"
  },
  {
   "metadata": {},
   "cell_type": "markdown",
   "source": "## 3. MPesa Configurations and Helper Functions",
   "id": "44e6741e7b29dfe1"
  },
  {
   "metadata": {},
   "cell_type": "markdown",
   "source": "## 3. MPesa Configurations and Helper",
   "id": "8c0eed0f798cf215"
  },
  {
   "metadata": {},
   "cell_type": "markdown",
   "source": "## 3. MPesa Configurations and",
   "id": "d40203537f1cc639"
  },
  {
   "metadata": {},
   "cell_type": "markdown",
   "source": "## 3. MPesa Configurations",
   "id": "ca70f04a3bd775d3"
  },
  {
   "metadata": {},
   "cell_type": "markdown",
   "source": "## 3. MPesa Config",
   "id": "6ac20e166e3b7ca2"
  },
  {
   "metadata": {},
   "cell_type": "markdown",
   "source": "## 3. MPesa",
   "id": "73f5d0e288551136"
  },
  {
   "metadata": {},
   "cell_type": "markdown",
   "source": "## 3. MP",
   "id": "cca59bd579f4b749"
  },
  {
   "metadata": {},
   "cell_type": "markdown",
   "source": "## 3.",
   "id": "e5a1f852d1e8919a"
  },
  {
   "metadata": {},
   "cell_type": "markdown",
   "source": "## 3",
   "id": "346acfe39e6071f3"
  },
  {
   "metadata": {},
   "cell_type": "markdown",
   "source": "##",
   "id": "793fce2467d419fa"
  },
  {
   "metadata": {},
   "cell_type": "markdown",
   "source": "##",
   "id": "dd2a6b7c0ed9b5c0"
  },
  {
   "metadata": {},
   "cell_type": "markdown",
   "source": "",
   "id": "5e17486dabade3b6"
  },
  {
   "metadata": {},
   "cell_type": "markdown",
   "source": "",
   "id": "bf7f218185c44c56"
  },
  {
   "metadata": {},
   "cell_type": "code",
   "outputs": [],
   "execution_count": null,
   "source": "",
   "id": "6c8ba57d7bcce9d8"
  },
  {
   "metadata": {},
   "cell_type": "markdown",
   "source": [
    "## 2. Defining SQLAlchemy Models (`models.py`)\n",
    "\n",
    "We define the data models for storing voucher information in a database."
   ],
   "id": "8b15328db259687f"
  },
  {
   "metadata": {},
   "cell_type": "markdown",
   "source": [
    "## 2. Defining SQLAlchemy Models (`models.py`)\n",
    "\n",
    "We define the data models for storing voucher information in a database."
   ],
   "id": "7af1fe164d176f2"
  },
  {
   "metadata": {},
   "cell_type": "markdown",
   "source": [
    "## 2. Defining SQLAlchemy Models (`models.py`)\n",
    "\n",
    "We define the data models for storing voucher information in a database."
   ],
   "id": "7f1bf7913f93e7bd"
  },
  {
   "metadata": {},
   "cell_type": "markdown",
   "source": [
    "## 2. Defining SQLAlchemy Models (`models.py`)\n",
    "\n",
    "We define the data models for storing voucher information in a database"
   ],
   "id": "6f0b9982eee9701d"
  },
  {
   "metadata": {},
   "cell_type": "markdown",
   "source": [
    "## 2. Defining SQLAlchemy Models (`models.py`)\n",
    "\n",
    "We define the data models for storing voucher information in a"
   ],
   "id": "50908c5a386dd206"
  },
  {
   "metadata": {},
   "cell_type": "markdown",
   "source": [
    "## 2. Defining SQLAlchemy Models (`models.py`)\n",
    "\n",
    "We define the data models for storing voucher information in"
   ],
   "id": "226b6766c41b7435"
  },
  {
   "metadata": {},
   "cell_type": "markdown",
   "source": [
    "## 2. Defining SQLAlchemy Models (`models.py`)\n",
    "\n",
    "We define the data models for storing voucher information"
   ],
   "id": "7eff451b0aa8eaf9"
  },
  {
   "metadata": {},
   "cell_type": "markdown",
   "source": [
    "## 2. Defining SQLAlchemy Models (`models.py`)\n",
    "\n",
    "We define the data models for storing voucher"
   ],
   "id": "9cbde9e97805f5ff"
  },
  {
   "metadata": {},
   "cell_type": "markdown",
   "source": [
    "## 2. Defining SQLAlchemy Models (`models.py`)\n",
    "\n",
    "We define the data models for storing"
   ],
   "id": "a3f36f47949336cc"
  },
  {
   "metadata": {},
   "cell_type": "markdown",
   "source": [
    "## 2. Defining SQLAlchemy Models (`models.py`)\n",
    "\n",
    "We define the data models for"
   ],
   "id": "1834903d85ce1444"
  },
  {
   "metadata": {},
   "cell_type": "markdown",
   "source": [
    "## 2. Defining SQLAlchemy Models (`models.py`)\n",
    "\n",
    "We define the data models"
   ],
   "id": "221eca32abde140c"
  },
  {
   "metadata": {},
   "cell_type": "markdown",
   "source": [
    "## 2. Defining SQLAlchemy Models (`models.py`)\n",
    "\n",
    "We define the data"
   ],
   "id": "63fb81eea57235ac"
  },
  {
   "metadata": {},
   "cell_type": "markdown",
   "source": [
    "## 2. Defining SQLAlchemy Models (`models.py`)\n",
    "\n",
    "We define the"
   ],
   "id": "dccbf127bb8d01de"
  },
  {
   "metadata": {},
   "cell_type": "markdown",
   "source": [
    "## 2. Defining SQLAlchemy Models (`models.py`)\n",
    "\n",
    "We define"
   ],
   "id": "e749a0fb8d0a7d78"
  },
  {
   "metadata": {},
   "cell_type": "markdown",
   "source": [
    "## 2. Defining SQLAlchemy Models (`models.py`)\n",
    "\n",
    "We"
   ],
   "id": "6173d92f3190bd3a"
  },
  {
   "metadata": {},
   "cell_type": "markdown",
   "source": "## 2. Defining SQLAlchemy Models (`models.py`)",
   "id": "d9186a7db2c6ac61"
  },
  {
   "metadata": {},
   "cell_type": "markdown",
   "source": "## 2. Defining SQLAlchemy Models (`models.py`",
   "id": "f1573d728009d022"
  },
  {
   "metadata": {},
   "cell_type": "markdown",
   "source": "## 2. Defining SQLAlchemy Models (`models.py",
   "id": "41117c6437aa3d49"
  },
  {
   "metadata": {},
   "cell_type": "markdown",
   "source": "## 2. Defining SQLAlchemy Models (`models",
   "id": "a5ca2fa210ddfa38"
  },
  {
   "metadata": {},
   "cell_type": "markdown",
   "source": "## 2. Defining SQLAlchemy Models (`",
   "id": "33e46c10d4153e2c"
  },
  {
   "metadata": {},
   "cell_type": "markdown",
   "source": "## 2. Defining SQLAlchemy Models",
   "id": "1a312cf669ac7c2f"
  },
  {
   "metadata": {},
   "cell_type": "markdown",
   "source": "## 2. Defining SQLAlchemy",
   "id": "f0f94e1afe1b26ef"
  },
  {
   "metadata": {},
   "cell_type": "markdown",
   "source": "## 2. Defining SQL",
   "id": "1ecd91658183e6d7"
  },
  {
   "metadata": {},
   "cell_type": "markdown",
   "source": "## 2. Defining",
   "id": "b8745dca2ff7de0f"
  },
  {
   "metadata": {},
   "cell_type": "markdown",
   "source": "## 2. Def",
   "id": "48c94a2ce5fb69bc"
  },
  {
   "metadata": {},
   "cell_type": "markdown",
   "source": "## 2.",
   "id": "ae03cf335aaf42bf"
  },
  {
   "metadata": {},
   "cell_type": "markdown",
   "source": "## 2",
   "id": "c62af039cd9062f3"
  },
  {
   "metadata": {},
   "cell_type": "markdown",
   "source": "##",
   "id": "c3dc1040954da8cf"
  },
  {
   "metadata": {},
   "cell_type": "markdown",
   "source": "##",
   "id": "612c6c781c10c075"
  },
  {
   "metadata": {},
   "cell_type": "markdown",
   "source": "",
   "id": "10d765ba27a868d7"
  },
  {
   "metadata": {},
   "cell_type": "markdown",
   "source": "",
   "id": "a8f458a5c8431c58"
  },
  {
   "metadata": {},
   "cell_type": "code",
   "outputs": [],
   "execution_count": null,
   "source": "",
   "id": "53a32d48447e72d0"
  },
  {
   "metadata": {},
   "cell_type": "markdown",
   "source": [
    "## 1. Setting up the Flask Application (`app.py`)\n",
    "\n",
    "Here we define our main Flask application with endpoint routes for the captive portal.\n",
    "\n",
    "**Code:**"
   ],
   "id": "5e6fb64dd42d2beb"
  },
  {
   "metadata": {},
   "cell_type": "markdown",
   "source": [
    "## 1. Setting up the Flask Application (`app.py`)\n",
    "\n",
    "Here we define our main Flask application with endpoint routes for the captive portal.\n",
    "\n",
    "**Code:**"
   ],
   "id": "d18197ccced49dfe"
  },
  {
   "metadata": {},
   "cell_type": "markdown",
   "source": [
    "## 1. Setting up the Flask Application (`app.py`)\n",
    "\n",
    "Here we define our main Flask application with endpoint routes for the captive portal.\n",
    "\n",
    "**Code:**"
   ],
   "id": "7bbf4e8bcebdc64e"
  },
  {
   "metadata": {},
   "cell_type": "markdown",
   "source": [
    "## 1. Setting up the Flask Application (`app.py`)\n",
    "\n",
    "Here we define our main Flask application with endpoint routes for the captive portal.\n",
    "\n",
    "**Code:"
   ],
   "id": "ed98286d6b77c88e"
  },
  {
   "metadata": {},
   "cell_type": "markdown",
   "source": [
    "## 1. Setting up the Flask Application (`app.py`)\n",
    "\n",
    "Here we define our main Flask application with endpoint routes for the captive portal.\n",
    "\n",
    "**Code"
   ],
   "id": "4edfce7e6a315354"
  },
  {
   "metadata": {},
   "cell_type": "markdown",
   "source": [
    "## 1. Setting up the Flask Application (`app.py`)\n",
    "\n",
    "Here we define our main Flask application with endpoint routes for the captive portal.\n",
    "\n",
    "**"
   ],
   "id": "6fd7388d640179c6"
  },
  {
   "metadata": {},
   "cell_type": "markdown",
   "source": [
    "## 1. Setting up the Flask Application (`app.py`)\n",
    "\n",
    "Here we define our main Flask application with endpoint routes for the captive portal."
   ],
   "id": "5a15158d58a6a14a"
  },
  {
   "metadata": {},
   "cell_type": "markdown",
   "source": [
    "## 1. Setting up the Flask Application (`app.py`)\n",
    "\n",
    "Here we define our main Flask application with endpoint routes for the captive portal"
   ],
   "id": "ef2d892146778ab9"
  },
  {
   "metadata": {},
   "cell_type": "markdown",
   "source": [
    "## 1. Setting up the Flask Application (`app.py`)\n",
    "\n",
    "Here we define our main Flask application with endpoint routes for the captive"
   ],
   "id": "436f1289c5f9be73"
  },
  {
   "metadata": {},
   "cell_type": "markdown",
   "source": [
    "## 1. Setting up the Flask Application (`app.py`)\n",
    "\n",
    "Here we define our main Flask application with endpoint routes for the"
   ],
   "id": "4b8f8c766b247161"
  },
  {
   "metadata": {},
   "cell_type": "markdown",
   "source": [
    "## 1. Setting up the Flask Application (`app.py`)\n",
    "\n",
    "Here we define our main Flask application with endpoint routes for"
   ],
   "id": "ec61ed2699d16894"
  },
  {
   "metadata": {},
   "cell_type": "markdown",
   "source": [
    "## 1. Setting up the Flask Application (`app.py`)\n",
    "\n",
    "Here we define our main Flask application with endpoint routes"
   ],
   "id": "8c8e825bd43dd618"
  },
  {
   "metadata": {},
   "cell_type": "markdown",
   "source": [
    "## 1. Setting up the Flask Application (`app.py`)\n",
    "\n",
    "Here we define our main Flask application with endpoint"
   ],
   "id": "303a63225b11b52c"
  },
  {
   "metadata": {},
   "cell_type": "markdown",
   "source": [
    "## 1. Setting up the Flask Application (`app.py`)\n",
    "\n",
    "Here we define our main Flask application with"
   ],
   "id": "6473b1e34577f67e"
  },
  {
   "metadata": {},
   "cell_type": "markdown",
   "source": [
    "## 1. Setting up the Flask Application (`app.py`)\n",
    "\n",
    "Here we define our main Flask application"
   ],
   "id": "d39f70091c63b42f"
  },
  {
   "metadata": {},
   "cell_type": "markdown",
   "source": [
    "## 1. Setting up the Flask Application (`app.py`)\n",
    "\n",
    "Here we define our main Flask"
   ],
   "id": "223fe396ba45bf90"
  },
  {
   "metadata": {},
   "cell_type": "markdown",
   "source": [
    "## 1. Setting up the Flask Application (`app.py`)\n",
    "\n",
    "Here we define our main"
   ],
   "id": "9f6af0b14a646e63"
  },
  {
   "metadata": {},
   "cell_type": "markdown",
   "source": [
    "## 1. Setting up the Flask Application (`app.py`)\n",
    "\n",
    "Here we define our"
   ],
   "id": "a3d245066ccaae0c"
  },
  {
   "metadata": {},
   "cell_type": "markdown",
   "source": [
    "## 1. Setting up the Flask Application (`app.py`)\n",
    "\n",
    "Here we define"
   ],
   "id": "255d5d26ecac1ae2"
  },
  {
   "metadata": {},
   "cell_type": "markdown",
   "source": [
    "## 1. Setting up the Flask Application (`app.py`)\n",
    "\n",
    "Here we"
   ],
   "id": "ff20ef6a7640c729"
  },
  {
   "metadata": {},
   "cell_type": "markdown",
   "source": [
    "## 1. Setting up the Flask Application (`app.py`)\n",
    "\n",
    "Here"
   ],
   "id": "1b893443fc1aad87"
  },
  {
   "metadata": {},
   "cell_type": "markdown",
   "source": "## 1. Setting up the Flask Application (`app.py`)",
   "id": "40c3896ccc74c09b"
  },
  {
   "metadata": {},
   "cell_type": "markdown",
   "source": "## 1. Setting up the Flask Application (`app.py`",
   "id": "810c44d304d3d295"
  },
  {
   "metadata": {},
   "cell_type": "markdown",
   "source": "## 1. Setting up the Flask Application (`app.py",
   "id": "c137bfcc9e84412d"
  },
  {
   "metadata": {},
   "cell_type": "markdown",
   "source": "## 1. Setting up the Flask Application (`app",
   "id": "49c2e1377a95bfbb"
  },
  {
   "metadata": {},
   "cell_type": "markdown",
   "source": "## 1. Setting up the Flask Application (`",
   "id": "a1b03bc8284ed90a"
  },
  {
   "metadata": {},
   "cell_type": "markdown",
   "source": "## 1. Setting up the Flask Application",
   "id": "eca092353fb3b565"
  },
  {
   "metadata": {},
   "cell_type": "markdown",
   "source": "## 1. Setting up the Flask",
   "id": "d4191fbb1551d836"
  },
  {
   "metadata": {},
   "cell_type": "markdown",
   "source": "## 1. Setting up the",
   "id": "64a4c58b0db82bb9"
  },
  {
   "metadata": {},
   "cell_type": "markdown",
   "source": "## 1. Setting up",
   "id": "a43495d523c75893"
  },
  {
   "metadata": {},
   "cell_type": "markdown",
   "source": "## 1. Setting",
   "id": "af642c4b4a1fa531"
  },
  {
   "metadata": {},
   "cell_type": "markdown",
   "source": "## 1.",
   "id": "71e7a06fa0e38a45"
  },
  {
   "metadata": {},
   "cell_type": "markdown",
   "source": "## 1",
   "id": "ac85be5660cb84a"
  },
  {
   "metadata": {},
   "cell_type": "markdown",
   "source": "##",
   "id": "16f2c5f6b2de1ef2"
  },
  {
   "metadata": {},
   "cell_type": "markdown",
   "source": "##",
   "id": "1f95237f0e17020d"
  },
  {
   "metadata": {},
   "cell_type": "markdown",
   "source": "",
   "id": "f60b1564b80f2a71"
  },
  {
   "metadata": {},
   "cell_type": "markdown",
   "source": "",
   "id": "707d0a58b85700b4"
  },
  {
   "metadata": {},
   "cell_type": "code",
   "outputs": [],
   "execution_count": null,
   "source": "",
   "id": "fc67d463865b8091"
  },
  {
   "metadata": {},
   "cell_type": "code",
   "outputs": [],
   "execution_count": null,
   "source": "",
   "id": "58d719c4a216c91b"
  },
  {
   "metadata": {},
   "cell_type": "code",
   "outputs": [],
   "execution_count": null,
   "source": "",
   "id": "aa05742fc70a9d12"
  },
  {
   "metadata": {},
   "cell_type": "code",
   "outputs": [],
   "execution_count": null,
   "source": "",
   "id": "58c82b362c72a4cd"
  },
  {
   "metadata": {},
   "cell_type": "code",
   "outputs": [],
   "execution_count": null,
   "source": "",
   "id": "33b42c1c04052311"
  },
  {
   "metadata": {},
   "cell_type": "code",
   "outputs": [],
   "execution_count": null,
   "source": "",
   "id": "918b58b3f90c3c04"
  },
  {
   "metadata": {},
   "cell_type": "code",
   "outputs": [],
   "execution_count": null,
   "source": "",
   "id": "7f6d544fa4b16ac5"
  },
  {
   "metadata": {},
   "cell_type": "markdown",
   "source": "",
   "id": "2fad1207102d2994"
  },
  {
   "metadata": {},
   "cell_type": "markdown",
   "source": "",
   "id": "3ef9dfeb918bafd5"
  },
  {
   "metadata": {},
   "cell_type": "markdown",
   "source": "",
   "id": "7443bd554572022d"
  },
  {
   "metadata": {},
   "cell_type": "code",
   "outputs": [],
   "execution_count": null,
   "source": "",
   "id": "5ab38643970f64b2"
  }
 ],
 "metadata": {
  "kernelspec": {
   "display_name": "Python 3",
   "language": "python",
   "name": "python3"
  },
  "language_info": {
   "codemirror_mode": {
    "name": "ipython",
    "version": 2
   },
   "file_extension": ".py",
   "mimetype": "text/x-python",
   "name": "python",
   "nbconvert_exporter": "python",
   "pygments_lexer": "ipython2",
   "version": "2.7.6"
  }
 },
 "nbformat": 4,
 "nbformat_minor": 5
}
